{
 "cells": [
  {
   "cell_type": "markdown",
   "id": "d31631ba",
   "metadata": {},
   "source": [
    "# Q1. How do you comment code in Python? What are the different types of comments?"
   ]
  },
  {
   "cell_type": "markdown",
   "id": "9a464a6c",
   "metadata": {},
   "source": [
    "# Comments in python are the lines in the code that are ignored by interpreter during the execution of the program. Comments enhance the readability of the code and help the programmers to understand the code very carefully.               We comment like :                                                                                                        "
   ]
  },
  {
   "cell_type": "markdown",
   "id": "05980956",
   "metadata": {},
   "source": [
    "# In python there are three types of comments. They are described below"
   ]
  },
  {
   "cell_type": "markdown",
   "id": "1c89dddc",
   "metadata": {},
   "source": [
    "# Single line comment : A single line comment of python is the one that has a hashtag # at the beginning of it and continue till the end of the line."
   ]
  },
  {
   "cell_type": "code",
   "execution_count": 1,
   "id": "a2e4a048",
   "metadata": {},
   "outputs": [
    {
     "name": "stdout",
     "output_type": "stream",
     "text": [
      "above code shows single line comment\n"
     ]
    }
   ],
   "source": [
    "# This is an example of single line comment \n",
    "print('above code shows single line comment')"
   ]
  },
  {
   "cell_type": "markdown",
   "id": "fc871751",
   "metadata": {},
   "source": [
    "# Multi-line comment : Python does not provide the facility for multi-line comments. However, there are indeed many ways to  create multi-line comments."
   ]
  },
  {
   "cell_type": "markdown",
   "id": "89749046",
   "metadata": {},
   "source": [
    "# with multiple hastag(#)"
   ]
  },
  {
   "cell_type": "code",
   "execution_count": 2,
   "id": "7b0498ab",
   "metadata": {},
   "outputs": [],
   "source": [
    "# it is a \n",
    "# comment\n",
    "# extending to multiple lines"
   ]
  },
  {
   "cell_type": "markdown",
   "id": "e777a644",
   "metadata": {},
   "source": [
    "# Using String Literals : Python overlook string expressions that aren't allocated to a variable, we can utilize them as comments."
   ]
  },
  {
   "cell_type": "code",
   "execution_count": 3,
   "id": "8d9aa96a",
   "metadata": {},
   "outputs": [],
   "source": [
    "# ' it is a comment extending to multiple lines '"
   ]
  },
  {
   "cell_type": "code",
   "execution_count": 4,
   "id": "d69d108a",
   "metadata": {},
   "outputs": [],
   "source": [
    "# \"\"\" This triple quotes help to do multiline comments \"\"\""
   ]
  },
  {
   "cell_type": "markdown",
   "id": "21103cea",
   "metadata": {},
   "source": [
    "# Python Docstring : The strings enclosed in triple quotes that come immediately after the defined function are called Python docstring."
   ]
  },
  {
   "cell_type": "code",
   "execution_count": 5,
   "id": "7317373c",
   "metadata": {},
   "outputs": [
    {
     "name": "stdout",
     "output_type": "stream",
     "text": [
      " This function adds the values of x and y\n"
     ]
    }
   ],
   "source": [
    "# Code show how we use docstring in python \n",
    "def add(x,y) :\n",
    "    \"\"\" This function adds the values of x and y\"\"\"\n",
    "    return x+y\n",
    "\n",
    "# Displaying the docstring of the add function.\n",
    "print(add.__doc__)"
   ]
  },
  {
   "cell_type": "markdown",
   "id": "1f7c7a69",
   "metadata": {},
   "source": [
    "# Q2- What are variables in Python? How do you declare and assign values to variables?"
   ]
  },
  {
   "cell_type": "markdown",
   "id": "d32a259b",
   "metadata": {},
   "source": [
    "# Variables are identifiers which we use as container to stored values.Variables reference storage location.We can access data by its variable name."
   ]
  },
  {
   "cell_type": "markdown",
   "id": "7efd7743",
   "metadata": {},
   "source": [
    "# Declaration of variable and assigning value to it."
   ]
  },
  {
   "cell_type": "code",
   "execution_count": 6,
   "id": "88eee27e",
   "metadata": {},
   "outputs": [
    {
     "name": "stdout",
     "output_type": "stream",
     "text": [
      "This is a variable\n"
     ]
    }
   ],
   "source": [
    "var='This is a variable'\n",
    "print(var)"
   ]
  },
  {
   "cell_type": "markdown",
   "id": "958b6e7b",
   "metadata": {},
   "source": [
    "# Q3. How do you convert one data type to another in Python?"
   ]
  },
  {
   "cell_type": "markdown",
   "id": "ab049efb",
   "metadata": {},
   "source": [
    "# We can convert one data type to another by type conversion."
   ]
  },
  {
   "cell_type": "code",
   "execution_count": 7,
   "id": "66d671a4",
   "metadata": {},
   "outputs": [
    {
     "name": "stdout",
     "output_type": "stream",
     "text": [
      "<class 'int'>\n",
      "<class 'str'>\n"
     ]
    }
   ],
   "source": [
    "a=1234\n",
    "print(type(a))\n",
    "\n",
    "s=str(a)\n",
    "print(type(s))"
   ]
  },
  {
   "cell_type": "markdown",
   "id": "5f09bc00",
   "metadata": {},
   "source": [
    "# Q4. How do you write and execute a Python script from the command line?"
   ]
  },
  {
   "cell_type": "markdown",
   "id": "556f0f0c",
   "metadata": {},
   "source": [
    "# The basic and easy way to run a python script is by using the python command. You need to open a command line and type the word python followed by the path to your script flie like this: python first_script.py Hello world! Then hit the ENTER button from the keyboard."
   ]
  },
  {
   "cell_type": "code",
   "execution_count": 8,
   "id": "e0ff7de1",
   "metadata": {},
   "outputs": [],
   "source": [
    "# Microsoft Windows [Version 10.0.19042.1526]\n",
    "# (c) Microsoft Corporation. All rights reserved.\n",
    "\n",
    "# D:\\PythonByMe>python ExecuteByCommandLine.py\n",
    "# hello world!\n",
    "\n",
    "# D:\\PythonByMe>\n"
   ]
  },
  {
   "cell_type": "markdown",
   "id": "e11c47a1",
   "metadata": {},
   "source": [
    "# Q5. Given a list  my_list=[1,2,3,4,5], write the code to slice the list and obtain the sub-list[2,3]"
   ]
  },
  {
   "cell_type": "code",
   "execution_count": 9,
   "id": "134fc12e",
   "metadata": {},
   "outputs": [
    {
     "name": "stdout",
     "output_type": "stream",
     "text": [
      "Sub List= [2, 3]\n"
     ]
    }
   ],
   "source": [
    "lst=[1,2,3,4,5]\n",
    "\n",
    "sub_lst=lst[1:3]\n",
    "print('Sub List=',sub_lst)"
   ]
  },
  {
   "cell_type": "markdown",
   "id": "e7b5a03f",
   "metadata": {},
   "source": [
    "# Q6. What is a complex number in mathematics, and how is it represented in python."
   ]
  },
  {
   "cell_type": "markdown",
   "id": "2e0a58d5",
   "metadata": {},
   "source": [
    "# Complex number are the numbers that are expressed in the form of a+ib where, a,b are real numbers and 'i' is an imaginary number called 'iota'. example= 2+3i is a complex number, where 2 is a real number and 3i is a imaginary number."
   ]
  },
  {
   "cell_type": "markdown",
   "id": "48030df0",
   "metadata": {},
   "source": [
    "# Complex number in python : In python complex number represent by 'j'. "
   ]
  },
  {
   "cell_type": "code",
   "execution_count": 10,
   "id": "45220289",
   "metadata": {},
   "outputs": [
    {
     "name": "stdout",
     "output_type": "stream",
     "text": [
      "type of a number= <class 'complex'>\n",
      "Real number= 5.0\n",
      "Imaginary Number= 7.0\n"
     ]
    }
   ],
   "source": [
    "cmpnum=5+7j \n",
    "\n",
    "print('type of a number=',type(cmpnum))\n",
    "\n",
    "print('Real number=',cmpnum.real)\n",
    "\n",
    "print('Imaginary Number=',cmpnum.imag)\n"
   ]
  },
  {
   "cell_type": "markdown",
   "id": "4ee3e1ed",
   "metadata": {},
   "source": [
    "# Q7. What is the correct way to declare a variable named age and assign the value 25 to it?"
   ]
  },
  {
   "cell_type": "code",
   "execution_count": 11,
   "id": "97d70cad",
   "metadata": {},
   "outputs": [
    {
     "name": "stdout",
     "output_type": "stream",
     "text": [
      "25\n",
      "Enter a age=25\n",
      "25\n"
     ]
    }
   ],
   "source": [
    "# There are many ways to assign value to variable but following are the correct way.\n",
    "\n",
    "age=25\n",
    "print(age)\n",
    "\n",
    "age=int(input('Enter a age='))\n",
    "\n",
    "print(age)"
   ]
  },
  {
   "cell_type": "markdown",
   "id": "7e985bc1",
   "metadata": {},
   "source": [
    "# Q8. Declare a variable named price and assign the value 9.99 to it. What data type does this variable belong to?"
   ]
  },
  {
   "cell_type": "code",
   "execution_count": 12,
   "id": "a7308002",
   "metadata": {},
   "outputs": [
    {
     "name": "stdout",
     "output_type": "stream",
     "text": [
      "<class 'float'>\n"
     ]
    }
   ],
   "source": [
    "data=9.99\n",
    "\n",
    "print(type(data))"
   ]
  },
  {
   "cell_type": "markdown",
   "id": "cfdb96b7",
   "metadata": {},
   "source": [
    "# Q9. Create a variable named name and assign your full name to it as a string. How would you print the value of this varibale?"
   ]
  },
  {
   "cell_type": "code",
   "execution_count": 13,
   "id": "13eca63a",
   "metadata": {},
   "outputs": [
    {
     "name": "stdout",
     "output_type": "stream",
     "text": [
      "Pankaj_Ashok_Tembhare\n"
     ]
    },
    {
     "data": {
      "text/plain": [
       "'Pankaj_Ashok_Tembhare'"
      ]
     },
     "execution_count": 13,
     "metadata": {},
     "output_type": "execute_result"
    }
   ],
   "source": [
    "name='Pankaj_Ashok_Tembhare'\n",
    "\n",
    "print(name)\n",
    "\n",
    "\n",
    "name[::]\n",
    "\n",
    "name"
   ]
  },
  {
   "cell_type": "markdown",
   "id": "608202aa",
   "metadata": {},
   "source": [
    "# Q10. Given the string 'Hello,world!', extract the substring 'world'."
   ]
  },
  {
   "cell_type": "code",
   "execution_count": 14,
   "id": "08489202",
   "metadata": {},
   "outputs": [
    {
     "name": "stdout",
     "output_type": "stream",
     "text": [
      "World\n"
     ]
    }
   ],
   "source": [
    "string='Hello,World!'\n",
    "sub_str=string[6:-1]\n",
    "print(sub_str)"
   ]
  },
  {
   "cell_type": "markdown",
   "id": "3a0fe375",
   "metadata": {},
   "source": [
    "# Q11. Create a variable string named 'is_student' and assign it a boolean value indicating whether you are currently a student or not."
   ]
  },
  {
   "cell_type": "code",
   "execution_count": 15,
   "id": "e52a2755",
   "metadata": {},
   "outputs": [
    {
     "name": "stdout",
     "output_type": "stream",
     "text": [
      "currently you are student\n"
     ]
    }
   ],
   "source": [
    "is_student=True\n",
    "if(is_student==True):\n",
    "    print('currently you are student')\n",
    "else:\n",
    "    print('currently you are not student')"
   ]
  }
 ],
 "metadata": {
  "kernelspec": {
   "display_name": "Python 3 (ipykernel)",
   "language": "python",
   "name": "python3"
  },
  "language_info": {
   "codemirror_mode": {
    "name": "ipython",
    "version": 3
   },
   "file_extension": ".py",
   "mimetype": "text/x-python",
   "name": "python",
   "nbconvert_exporter": "python",
   "pygments_lexer": "ipython3",
   "version": "3.11.1"
  }
 },
 "nbformat": 4,
 "nbformat_minor": 5
}
